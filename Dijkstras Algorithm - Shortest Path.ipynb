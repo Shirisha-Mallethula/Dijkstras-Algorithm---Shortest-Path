{
 "cells": [
  {
   "cell_type": "code",
   "execution_count": 1,
   "id": "4ad7f97b",
   "metadata": {},
   "outputs": [],
   "source": [
    "import sys"
   ]
  },
  {
   "cell_type": "code",
   "execution_count": 2,
   "id": "70631bc1",
   "metadata": {},
   "outputs": [
    {
     "name": "stdout",
     "output_type": "stream",
     "text": [
      "shortest_path is 13\n",
      "optional_path is ['a', 'c', 'd', 'e', 'h']\n"
     ]
    }
   ],
   "source": [
    "graph = {\n",
    "'a':{'b':3,'c':4,'d':7},\n",
    "'b':{'c':1,'f':5},\n",
    "'c':{'f':6,'d':2},\n",
    "'d':{'e':3,'g':6},\n",
    "'e':{'g':3,'h':4},\n",
    "'f':{'e':1,'h':8},\n",
    "'g':{'h':2},\n",
    "'h':{'g':2}\n",
    "}\n",
    "\n",
    "def dijkstra(graph,start,goal):\n",
    "    shortest_distance = {} #record the cost to reach to that node. Going to be updated as we move along the graph.\n",
    "    track_predecessor = {}\n",
    "    unseenNodes = graph #keep track of the path that has led us to this node.\n",
    "    infinity = 999999 #infinity is large number\n",
    "    track_path = [] #to iterate through the entire graph\n",
    "    \n",
    "    for node in unseenNodes:\n",
    "        shortest_distance[node] = infinity \n",
    "    shortest_distance[start] = 0\n",
    "    \n",
    "    while unseenNodes:\n",
    "        \n",
    "        min_distance_node = None\n",
    "        \n",
    "        for node in unseenNodes:\n",
    "            if min_distance_node is None:\n",
    "                min_distance_node = node\n",
    "            elif shortest_distance[node] < shortest_distance[min_distance_node]:\n",
    "                min_distance_node = node\n",
    "            \n",
    "        path_options = graph[min_distance_node].items()\n",
    "        \n",
    "        for child_node, weight in path_options:\n",
    "            \n",
    "            if weight + shortest_distance[min_distance_node] < shortest_distance[child_node]:\n",
    "                \n",
    "                shortest_distance[child_node] = weight + shortest_distance[min_distance_node]\n",
    "                track_predecessor[child_node] = min_distance_node\n",
    "        \n",
    "        unseenNodes.pop(min_distance_node)\n",
    "        \n",
    "    currentNode = goal\n",
    "    \n",
    "    while currentNode != start:\n",
    "        try:\n",
    "            track_path.insert(0, currentNode)\n",
    "            currentNode = track_predecessor[currentNode]\n",
    "            \n",
    "        except KeyError:\n",
    "            print(\"path is not reachable\")\n",
    "            break\n",
    "        \n",
    "    track_path.insert(0,start)\n",
    "    \n",
    "    \n",
    "    if shortest_distance[goal] != infinity:\n",
    "        \n",
    "        print(\"shortest_path is \"  +  str(shortest_distance[goal])) \n",
    "        print(\"optional_path is \" + str(track_path))\n",
    "\n",
    "dijkstra(graph,'a','h')\n",
    "        "
   ]
  },
  {
   "cell_type": "code",
   "execution_count": null,
   "id": "89d07e55",
   "metadata": {},
   "outputs": [],
   "source": []
  }
 ],
 "metadata": {
  "kernelspec": {
   "display_name": "Python 3 (ipykernel)",
   "language": "python",
   "name": "python3"
  },
  "language_info": {
   "codemirror_mode": {
    "name": "ipython",
    "version": 3
   },
   "file_extension": ".py",
   "mimetype": "text/x-python",
   "name": "python",
   "nbconvert_exporter": "python",
   "pygments_lexer": "ipython3",
   "version": "3.10.5"
  }
 },
 "nbformat": 4,
 "nbformat_minor": 5
}
